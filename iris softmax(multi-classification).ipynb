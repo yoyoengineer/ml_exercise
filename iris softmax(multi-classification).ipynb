{
 "cells": [
  {
   "cell_type": "code",
   "execution_count": 1,
   "id": "e0260f8e",
   "metadata": {},
   "outputs": [],
   "source": [
    "import tensorflow as tf\n",
    "import pandas as pd\n",
    "import numpy as np\n",
    "import matplotlib as mpl\n",
    "import matplotlib.pyplot as plt"
   ]
  },
  {
   "cell_type": "code",
   "execution_count": 5,
   "id": "1109af55",
   "metadata": {},
   "outputs": [],
   "source": [
    "TRAIN_URL = \"http://download.tensorflow.org/data/iris_training.csv\"\n",
    "train_path = tf.keras.utils.get_file(TRAIN_URL.split('/')[-1],TRAIN_URL)\n",
    "df_iris = pd.read_csv(train_path, header=0)"
   ]
  },
  {
   "cell_type": "code",
   "execution_count": 6,
   "id": "28ae8a6f",
   "metadata": {},
   "outputs": [
    {
     "data": {
      "text/plain": [
       "(120, 5)"
      ]
     },
     "execution_count": 6,
     "metadata": {},
     "output_type": "execute_result"
    }
   ],
   "source": [
    "iris = np.array(df_iris)\n",
    "iris.shape"
   ]
  },
  {
   "cell_type": "code",
   "execution_count": 7,
   "id": "43074f42",
   "metadata": {},
   "outputs": [],
   "source": [
    "x_train = iris[:,2:4]\n",
    "y_train = iris[:,4]\n",
    "num_train = len(x_train)"
   ]
  },
  {
   "cell_type": "markdown",
   "id": "e8c9cbb2",
   "metadata": {},
   "source": [
    "## 将标签值转化为独热编码的形式，使非偏序关系的数据，取值不具有偏序性"
   ]
  },
  {
   "cell_type": "code",
   "execution_count": 10,
   "id": "3b098185",
   "metadata": {},
   "outputs": [],
   "source": [
    "x0_train = np.ones(num_train).reshape(-1, 1)\n",
    "X_train = tf.cast(tf.concat((x0_train, x_train), axis=1), tf.float32)\n",
    "Y_train = tf.one_hot(tf.constant(y_train, dtype=tf.int32), 3) # 先用tf.constant将标签值转换为张量"
   ]
  },
  {
   "cell_type": "code",
   "execution_count": 11,
   "id": "b9510f87",
   "metadata": {},
   "outputs": [],
   "source": [
    "# 设置超参数\n",
    "learn_rate = 0.2\n",
    "iter = 500\n",
    "display_step = 100\n",
    "\n",
    "# 设置模型参数初始值\n",
    "np.random.seed(612)\n",
    "W = tf.Variable(np.random.randn(3, 3), dtype = tf.float32)"
   ]
  },
  {
   "cell_type": "code",
   "execution_count": 13,
   "id": "26247a5c",
   "metadata": {},
   "outputs": [
    {
     "name": "stdout",
     "output_type": "stream",
     "text": [
      "i: 0, Acc: 0.350000, Loss: 4.510763\n",
      "i: 100, Acc: 0.808333, Loss: 0.503537\n",
      "i: 200, Acc: 0.883333, Loss: 0.402912\n",
      "i: 300, Acc: 0.891667, Loss: 0.352650\n",
      "i: 400, Acc: 0.941667, Loss: 0.319779\n",
      "i: 500, Acc: 0.941667, Loss: 0.295599\n"
     ]
    }
   ],
   "source": [
    "ce = []\n",
    "acc = []\n",
    "\n",
    "for i in range(0, iter + 1):\n",
    "    with tf.GradientTape() as tape:\n",
    "        PRED_train = tf.nn.softmax(tf.matmul(X_train, W)) #通过softmax函数得到预测值的分类概率\n",
    "        Loss_train = -tf.reduce_sum(Y*tf.math.log(PRED_train))/num_train # 计算平均交叉熵损失\n",
    "        \n",
    "    accuracy = tf.reduce_mean(tf.cast(tf.equal(tf.argmax(PRED_train.numpy(), axis=1), y_train), tf.float32))\n",
    "    ce.append(Loss_train)\n",
    "    acc.append(accuracy)\n",
    "    \n",
    "    dL_dW = tape.gradient(Loss_train, W)\n",
    "    W.assign_sub(learn_rate * dL_dW)\n",
    "    \n",
    "    if i % display_step == 0:\n",
    "        print(\"i: %i, Acc: %f, Loss: %f\" % (i, accuracy, Loss_train))"
   ]
  },
  {
   "cell_type": "code",
   "execution_count": 14,
   "id": "dbb4f55d",
   "metadata": {},
   "outputs": [
    {
     "data": {
      "text/plain": [
       "TensorShape([120, 3])"
      ]
     },
     "execution_count": 14,
     "metadata": {},
     "output_type": "execute_result"
    }
   ],
   "source": [
    "PRED_train.shape"
   ]
  },
  {
   "cell_type": "code",
   "execution_count": 15,
   "id": "3ebc33f1",
   "metadata": {},
   "outputs": [
    {
     "data": {
      "text/plain": [
       "<tf.Tensor: shape=(120,), dtype=float32, numpy=\n",
       "array([1.        , 1.        , 1.        , 0.9999999 , 1.        ,\n",
       "       0.99999994, 1.        , 1.        , 1.        , 1.        ,\n",
       "       1.        , 1.        , 1.        , 1.        , 1.        ,\n",
       "       0.99999994, 0.99999994, 1.        , 1.        , 1.        ,\n",
       "       1.        , 1.        , 1.        , 0.99999994, 1.        ,\n",
       "       1.        , 0.99999994, 1.        , 1.        , 1.        ,\n",
       "       1.        , 1.        , 1.        , 1.        , 1.        ,\n",
       "       1.        , 1.        , 1.        , 1.        , 1.0000001 ,\n",
       "       1.        , 1.        , 1.        , 1.        , 1.        ,\n",
       "       1.        , 1.        , 0.99999994, 1.        , 0.99999994,\n",
       "       1.        , 1.        , 1.        , 1.        , 1.0000001 ,\n",
       "       1.        , 1.        , 1.        , 1.        , 1.        ,\n",
       "       1.        , 1.        , 1.        , 1.        , 1.        ,\n",
       "       1.0000001 , 0.99999994, 1.        , 1.        , 1.        ,\n",
       "       0.99999994, 1.        , 0.99999994, 1.        , 0.99999994,\n",
       "       0.9999999 , 0.99999994, 1.        , 1.        , 1.        ,\n",
       "       1.        , 1.0000001 , 0.9999999 , 1.        , 1.        ,\n",
       "       0.9999999 , 1.        , 0.9999999 , 1.        , 1.        ,\n",
       "       1.        , 1.        , 1.0000001 , 1.        , 1.        ,\n",
       "       1.0000001 , 1.        , 0.99999994, 1.        , 1.        ,\n",
       "       1.        , 1.        , 1.        , 1.        , 1.        ,\n",
       "       1.        , 1.        , 1.        , 1.        , 1.        ,\n",
       "       0.99999994, 1.        , 1.        , 0.99999994, 0.99999994,\n",
       "       1.        , 1.        , 1.        , 1.        , 1.        ],\n",
       "      dtype=float32)>"
      ]
     },
     "execution_count": 15,
     "metadata": {},
     "output_type": "execute_result"
    }
   ],
   "source": [
    "tf.reduce_sum(PRED_train, axis=1)"
   ]
  },
  {
   "cell_type": "code",
   "execution_count": 16,
   "id": "85f40914",
   "metadata": {},
   "outputs": [
    {
     "data": {
      "text/plain": [
       "<tf.Tensor: shape=(120,), dtype=int64, numpy=\n",
       "array([2, 1, 2, 0, 0, 0, 0, 2, 1, 0, 1, 1, 0, 0, 2, 2, 2, 2, 2, 0, 2, 2,\n",
       "       0, 1, 1, 0, 1, 2, 1, 2, 1, 1, 1, 2, 2, 2, 2, 2, 0, 0, 2, 2, 2, 0,\n",
       "       0, 1, 0, 2, 0, 2, 0, 1, 1, 0, 1, 2, 2, 2, 2, 1, 1, 2, 2, 2, 1, 2,\n",
       "       0, 2, 2, 0, 0, 1, 0, 2, 2, 0, 1, 1, 1, 2, 0, 1, 1, 1, 2, 0, 1, 1,\n",
       "       2, 0, 2, 1, 0, 0, 2, 0, 0, 2, 2, 0, 0, 1, 0, 1, 0, 0, 0, 0, 1, 0,\n",
       "       2, 1, 0, 2, 0, 1, 1, 0, 0, 1], dtype=int64)>"
      ]
     },
     "execution_count": 16,
     "metadata": {},
     "output_type": "execute_result"
    }
   ],
   "source": [
    "tf.argmax(PRED_train.numpy(), axis=1) # 为了便于观察，利用argmax将预测结果转换为自然顺序码"
   ]
  },
  {
   "cell_type": "markdown",
   "id": "1d5e6181",
   "metadata": {},
   "source": [
    "## 绘制分类图"
   ]
  },
  {
   "cell_type": "code",
   "execution_count": 17,
   "id": "add617cf",
   "metadata": {},
   "outputs": [],
   "source": [
    "M = 500\n",
    "x1_min, x2_min = x_train.min(axis = 0)\n",
    "x1_max, x2_max = x_train.max(axis = 0)\n",
    "t1 = np.linspace(x1_min, x1_max, M)\n",
    "t2 = np.linspace(x2_min, x2_max, M)\n",
    "m1, m2 = np.meshgrid(t1, t2)"
   ]
  },
  {
   "cell_type": "code",
   "execution_count": 18,
   "id": "51b85347",
   "metadata": {},
   "outputs": [],
   "source": [
    "m0 = np.ones(M*M)\n",
    "X_mesh = tf.cast(np.stack((m0, m1.reshape(-1), m2.reshape(-1)), axis = 1), dtype = tf.float32)\n",
    "Y_mesh = tf.nn.softmax(tf.matmul(X_mesh,W))\n",
    "Y_mesh = tf.argmax(Y_mesh.numpy(), axis=1) # 转为自然顺序码，决定网格颜色"
   ]
  },
  {
   "cell_type": "code",
   "execution_count": 19,
   "id": "172e8672",
   "metadata": {},
   "outputs": [],
   "source": [
    "n = tf.reshape(Y_mesh, m1.shape) #和m1形状相同"
   ]
  },
  {
   "cell_type": "code",
   "execution_count": 23,
   "id": "686d5753",
   "metadata": {},
   "outputs": [
    {
     "data": {
      "image/png": "[encoded data removed]",
      "text/plain": [
       "<Figure size 800x600 with 1 Axes>"
      ]
     },
     "metadata": {},
     "output_type": "display_data"
    }
   ],
   "source": [
    "plt.figure(figsize=(8,6))\n",
    "\n",
    "cm_bg = mpl.colors.ListedColormap([\"#A0FFA0\", \"#FFA0A0\",\"#A0A0FF\"])\n",
    "\n",
    "plt.pcolormesh(m1, m2, n, cmap=cm_bg)\n",
    "plt.scatter(x_train[:,0], x_train[:,1], c=y_train, cmap=\"brg\")\n",
    "plt.show()"
   ]
  },
  {
   "cell_type": "code",
   "execution_count": null,
   "id": "121ffa2d",
   "metadata": {},
   "outputs": [],
   "source": []
  }
 ],
 "metadata": {
  "kernelspec": {
   "display_name": "Python [conda env:tensorflow-gpu]",
   "language": "python",
   "name": "conda-env-tensorflow-gpu-py"
  },
  "language_info": {
   "codemirror_mode": {
    "name": "ipython",
    "version": 3
   },
   "file_extension": ".py",
   "mimetype": "text/x-python",
   "name": "python",
   "nbconvert_exporter": "python",
   "pygments_lexer": "ipython3",
   "version": "3.8.0"
  }
 },
 "nbformat": 4,
 "nbformat_minor": 5
}
